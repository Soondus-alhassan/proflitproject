{
  "cells": [
    {
      "cell_type": "markdown",
      "metadata": {
        "colab_type": "text",
        "id": "view-in-github"
      },
      "source": [
        "<a href=\"https://colab.research.google.com/github/Soondus-alhassan/proflitproject/blob/branch-1/test_script.ipynb\" target=\"_parent\"><img src=\"https://colab.research.google.com/assets/colab-badge.svg\" alt=\"Open In Colab\"/></a>"
      ]
    },
    {
      "cell_type": "code",
      "execution_count": 3,
      "metadata": {},
      "outputs": [],
      "source": [
        "''' import modules'''\n",
        "import os\n",
        "import pandas as pd"
      ]
    },
    {
      "cell_type": "code",
      "execution_count": 4,
      "metadata": {},
      "outputs": [],
      "source": [
        "import logging\n",
        "logging.basicConfig(level=logging.DEBUG, format=' %(asctime)s - %(levelname)s - %(message)s')\n"
      ]
    },
    {
      "cell_type": "code",
      "execution_count": 5,
      "metadata": {},
      "outputs": [],
      "source": [
        "uploaded_file = 'Book1.xlsx'"
      ]
    },
    {
      "cell_type": "code",
      "execution_count": 6,
      "metadata": {},
      "outputs": [
        {
          "data": {
            "text/plain": [
              "('Book1', '.xlsx')"
            ]
          },
          "execution_count": 6,
          "metadata": {},
          "output_type": "execute_result"
        }
      ],
      "source": [
        "# split up the name to check for file extension\n",
        "split_tup = os.path.splitext(uploaded_file)\n",
        "split_tup\n",
        "#expect split_tup[1] == 'xlsx' "
      ]
    },
    {
      "cell_type": "code",
      "execution_count": 11,
      "metadata": {},
      "outputs": [],
      "source": [
        "def split():\n",
        "    return split_tup"
      ]
    },
    {
      "cell_type": "code",
      "execution_count": 30,
      "metadata": {},
      "outputs": [
        {
          "ename": "AttributeError",
          "evalue": "'str' object has no attribute 'filename'",
          "output_type": "error",
          "traceback": [
            "\u001b[1;31m---------------------------------------------------------------------------\u001b[0m",
            "\u001b[1;31mAttributeError\u001b[0m                            Traceback (most recent call last)",
            "Cell \u001b[1;32mIn[30], line 17\u001b[0m\n\u001b[0;32m     14\u001b[0m   result \u001b[39m=\u001b[39m split(uploaded)\n\u001b[0;32m     15\u001b[0m   \u001b[39mreturn\u001b[39;00m secure_filename(uploaded\u001b[39m.\u001b[39mfilename)\n\u001b[1;32m---> 17\u001b[0m secure_name(uploaded_file)\n",
            "Cell \u001b[1;32mIn[30], line 15\u001b[0m, in \u001b[0;36msecure_name\u001b[1;34m(uploaded)\u001b[0m\n\u001b[0;32m     13\u001b[0m \u001b[39mdef\u001b[39;00m \u001b[39msecure_name\u001b[39m(uploaded):\n\u001b[0;32m     14\u001b[0m   result \u001b[39m=\u001b[39m split(uploaded)\n\u001b[1;32m---> 15\u001b[0m   \u001b[39mreturn\u001b[39;00m secure_filename(uploaded\u001b[39m.\u001b[39;49mfilename)\n",
            "\u001b[1;31mAttributeError\u001b[0m: 'str' object has no attribute 'filename'"
          ]
        }
      ],
      "source": [
        "from werkzeug.utils import secure_filename\n",
        "\n",
        "def split(uploaded):\n",
        " ''' splits filename and checks for .xlxs file extension'''\n",
        " split_tup = os.path.splitext(uploaded)\n",
        " return split_tup\n",
        "\n",
        "def check_extension(uploaded):\n",
        "    ''' splits filename and checks for .xlxs file extension'''\n",
        "    result = split(uploaded)\n",
        "    return result[1]\n",
        "\n",
        "def secure_name(uploaded):\n",
        "  result = split(uploaded)\n",
        "  return secure_filename(uploaded.filename)\n",
        "\n",
        "secure_name(uploaded_file)"
      ]
    },
    {
      "cell_type": "code",
      "execution_count": 23,
      "metadata": {},
      "outputs": [
        {
          "data": {
            "text/plain": [
              "'.xlsx'"
            ]
          },
          "execution_count": 23,
          "metadata": {},
          "output_type": "execute_result"
        }
      ],
      "source": [
        "check_extension(uploaded_file)"
      ]
    },
    {
      "cell_type": "code",
      "execution_count": null,
      "metadata": {},
      "outputs": [
        {
          "data": {
            "text/plain": [
              "'sanitized_Book1.xlsx'"
            ]
          },
          "execution_count": 8,
          "metadata": {},
          "output_type": "execute_result"
        }
      ],
      "source": [
        "# join the names together\n",
        "def new_filename(filename):\n",
        "    return 'sanitized_'+ filename\n",
        "\n",
        "new_filename(uploaded_file)"
      ]
    },
    {
      "cell_type": "code",
      "execution_count": null,
      "metadata": {},
      "outputs": [],
      "source": [
        "  #if uploaded_file not in request.files:\n",
        "   #     return redirect(request.url)"
      ]
    },
    {
      "cell_type": "code",
      "execution_count": null,
      "metadata": {},
      "outputs": [],
      "source": [
        "#if file.filename == '':\n",
        " #       return redirect(request.url)"
      ]
    },
    {
      "cell_type": "code",
      "execution_count": null,
      "metadata": {},
      "outputs": [],
      "source": [
        "'''if file and allowed_file(file.filename):\n",
        "    return redirect(url_for('process_file', filename=new_filename))'''"
      ]
    },
    {
      "cell_type": "markdown",
      "metadata": {},
      "source": [
        "testing upload an excel file"
      ]
    }
  ],
  "metadata": {
    "colab": {
      "authorship_tag": "ABX9TyPOI0eKR8mv9dmc1TxNwtOZ",
      "include_colab_link": true,
      "provenance": []
    },
    "kernelspec": {
      "display_name": "Python 3",
      "name": "python3"
    },
    "language_info": {
      "codemirror_mode": {
        "name": "ipython",
        "version": 3
      },
      "file_extension": ".py",
      "mimetype": "text/x-python",
      "name": "python",
      "nbconvert_exporter": "python",
      "pygments_lexer": "ipython3",
      "version": "3.11.6"
    }
  },
  "nbformat": 4,
  "nbformat_minor": 0
}
